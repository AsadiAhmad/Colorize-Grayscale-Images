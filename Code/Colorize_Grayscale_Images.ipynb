{
  "nbformat": 4,
  "nbformat_minor": 0,
  "metadata": {
    "colab": {
      "provenance": [],
      "authorship_tag": "ABX9TyMYCTTM/itUT/FNBM7qGq3H",
      "include_colab_link": true
    },
    "kernelspec": {
      "name": "python3",
      "display_name": "Python 3"
    },
    "language_info": {
      "name": "python"
    }
  },
  "cells": [
    {
      "cell_type": "markdown",
      "metadata": {
        "id": "view-in-github",
        "colab_type": "text"
      },
      "source": [
        "<a href=\"https://colab.research.google.com/github/AsadiAhmad/Colorize-Grayscale-Images/blob/main/Code/Colorize_Grayscale_Images.ipynb\" target=\"_parent\"><img src=\"https://colab.research.google.com/assets/colab-badge.svg\" alt=\"Open In Colab\"/></a>"
      ]
    },
    {
      "cell_type": "markdown",
      "source": [
        "# Step 1: Import Libraries"
      ],
      "metadata": {
        "id": "iaKmDlqhNxDP"
      }
    },
    {
      "cell_type": "code",
      "execution_count": null,
      "metadata": {
        "id": "2EMcWEIbNvug"
      },
      "outputs": [],
      "source": []
    },
    {
      "cell_type": "markdown",
      "source": [
        "# Step 2: Download Resources"
      ],
      "metadata": {
        "id": "EkBaKhUEN3mz"
      }
    },
    {
      "cell_type": "code",
      "source": [],
      "metadata": {
        "id": "Oax4VyTmN98y"
      },
      "execution_count": null,
      "outputs": []
    },
    {
      "cell_type": "markdown",
      "source": [
        "# Step 3: Load Image"
      ],
      "metadata": {
        "id": "okwCiaavN-MO"
      }
    },
    {
      "cell_type": "code",
      "source": [],
      "metadata": {
        "id": "1vIMju9WOA0m"
      },
      "execution_count": null,
      "outputs": []
    },
    {
      "cell_type": "markdown",
      "source": [
        "# Step 4:"
      ],
      "metadata": {
        "id": "I0UG3bX2OBvs"
      }
    }
  ]
}